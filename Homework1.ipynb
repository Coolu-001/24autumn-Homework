{
 "cells": [
  {
   "cell_type": "markdown",
   "metadata": {},
   "source": [
    "1. 编写Python程序，打印\"数据科学与工程导论\"，并使用 print(chr(0x2605)) 语句将星星包围起来。"
   ]
  },
  {
   "cell_type": "code",
   "execution_count": 12,
   "metadata": {},
   "outputs": [
    {
     "name": "stdout",
     "output_type": "stream",
     "text": [
      "★★★★★★★★★★★★★★★\n",
      "数据科学与工程导论\n",
      "★★★★★★★★★★★★★★★\n"
     ]
    }
   ],
   "source": [
    "print(chr(0x2605)*15)\n",
    "print(\"数据科学与工程导论\")\n",
    "print(chr(0x2605)*15)\n"
   ]
  },
  {
   "cell_type": "markdown",
   "metadata": {},
   "source": [
    "2. 写一个 Python 程序，输入 x, y, z 这三个数，将这三个数从小到大使用 print 函数打印出来。"
   ]
  },
  {
   "cell_type": "code",
   "execution_count": 1,
   "metadata": {},
   "outputs": [
    {
     "name": "stdout",
     "output_type": "stream",
     "text": [
      "从小到大的顺序是: [2.0, 4.0, 6.0]\n"
     ]
    }
   ],
   "source": [
    "x = float(input(\"请输入第一个数: \"))\n",
    "y = float(input(\"请输入第二个数: \"))\n",
    "z = float(input(\"请输入第三个数: \"))\n",
    "numbers = [x, y, z]\n",
    "numbers.sort()\n",
    "print(\"从小到大的顺序是:\", numbers)\n"
   ]
  },
  {
   "cell_type": "markdown",
   "metadata": {},
   "source": [
    "3. 写一个 Python 程序，有 w, x, y, z 四个数，将这四个数从大到小使用 print 函数打印出来。"
   ]
  },
  {
   "cell_type": "code",
   "execution_count": 3,
   "metadata": {},
   "outputs": [
    {
     "name": "stdout",
     "output_type": "stream",
     "text": [
      "从大到小的顺序是: [8.0, 6.0, 3.0, 0.0]\n"
     ]
    }
   ],
   "source": [
    "w = float(input(\"请输入第一个数: \"))\n",
    "x = float(input(\"请输入第二个数: \"))\n",
    "y = float(input(\"请输入第三个数: \"))\n",
    "z = float(input(\"请输入第四个数: \"))\n",
    "numbers = [w, x, y, z]\n",
    "numbers.sort(reverse=True) \n",
    "print(\"从大到小的顺序是:\", numbers)\n"
   ]
  },
  {
   "cell_type": "markdown",
   "metadata": {},
   "source": [
    "4. 写一个 Python 程序，输出 1-100 中的所有奇数。"
   ]
  },
  {
   "cell_type": "code",
   "execution_count": 5,
   "metadata": {},
   "outputs": [
    {
     "name": "stdout",
     "output_type": "stream",
     "text": [
      "1 3 5 7 9 11 13 15 17 19 21 23 25 27 29 31 33 35 37 39 41 43 45 47 49 51 53 55 57 59 61 63 65 67 69 71 73 75 77 79 81 83 85 87 89 91 93 95 97 99 "
     ]
    }
   ],
   "source": [
    "for i in range(1, 101):\n",
    "    if i % 2 != 0:\n",
    "        print(i,end=\" \")\n"
   ]
  },
  {
   "cell_type": "markdown",
   "metadata": {},
   "source": [
    "5. 写一个 Python 程序，用 for 循环，求解 1 到 100 的和。"
   ]
  },
  {
   "cell_type": "code",
   "execution_count": 8,
   "metadata": {},
   "outputs": [
    {
     "name": "stdout",
     "output_type": "stream",
     "text": [
      "5050\n"
     ]
    }
   ],
   "source": [
    "result =0\n",
    "for i in range (1,101):\n",
    "    result += i;\n",
    "print(result)"
   ]
  },
  {
   "cell_type": "markdown",
   "metadata": {},
   "source": [
    "6. 写一个 Python 程序，分别用 for 和 while 循环实现对一个给定序列的倒排序输出。例如，给定 L=[1,2,3,4,5]，输出为 [5,4,3,2,1]。"
   ]
  },
  {
   "cell_type": "code",
   "execution_count": 9,
   "metadata": {},
   "outputs": [
    {
     "name": "stdout",
     "output_type": "stream",
     "text": [
      "1 9 8 6 4 "
     ]
    }
   ],
   "source": [
    "L = list(map(int, input(\"请输入一组数，用空格分隔: \").split()))\n",
    "for i in L[::-1]:\n",
    "    print(i, end=\" \") \n"
   ]
  },
  {
   "cell_type": "code",
   "execution_count": 11,
   "metadata": {},
   "outputs": [
    {
     "name": "stdout",
     "output_type": "stream",
     "text": [
      "6 4 2 7 "
     ]
    }
   ],
   "source": [
    "L = list(map(int, input(\"请输入一组数，用空格分隔: \").split()))\n",
    "i = len(L) - 1\n",
    "while i >= 0:\n",
    "    print(L[i], end=\" \")  \n",
    "    i -= 1 \n"
   ]
  },
  {
   "cell_type": "markdown",
   "metadata": {},
   "source": [
    "7. 写一个 Python 程序，判断一个输入的字符串 S 是否包含由两个或两个以上连续出现的相同字符组成的字符串。例如，abccccda 中就包含 cccc 这个由 4 个连续字符组成的字符串。"
   ]
  },
  {
   "cell_type": "code",
   "execution_count": 30,
   "metadata": {},
   "outputs": [
    {
     "name": "stdout",
     "output_type": "stream",
     "text": [
      "9 字符串包含两个或两个以上连续相同的字符。\n"
     ]
    }
   ],
   "source": [
    "S = input(\"请输入一个字符串\")\n",
    "found = False\n",
    "for i in range(len(S)-1):\n",
    "    if S[i]==S[i+1]:\n",
    "        count =2\n",
    "        while i+count<len(S) and S[i]==S[count+i]:\n",
    "            count+=1;\n",
    "        if count>=2:\n",
    "            found=True\n",
    "            break\n",
    "if found:\n",
    "    print(count , \"字符串包含两个或两个以上连续相同的字符。\")\n",
    "else:\n",
    "    print(\"字符串不包含两个或两个以上连续相同的字符。\")\n"
   ]
  },
  {
   "cell_type": "markdown",
   "metadata": {},
   "source": [
    "8. 写一个 Python 程序，输入一个字符串 S，去掉其中所有的空格后输出。例如，“DataScience and Engineering”，去掉空格后为“DataScienceandEngineering”。"
   ]
  },
  {
   "cell_type": "code",
   "execution_count": 31,
   "metadata": {},
   "outputs": [
    {
     "name": "stdout",
     "output_type": "stream",
     "text": [
      "去掉空格后的字符串: asfdf\n"
     ]
    }
   ],
   "source": [
    "S = input(\"请输入一个字符串: \")\n",
    "S_without_spaces = S.replace(\" \", \"\")\n",
    "print(\"去掉空格后的字符串:\", S_without_spaces)"
   ]
  },
  {
   "cell_type": "markdown",
   "metadata": {},
   "source": [
    "9. 请设计一个求 3 次方根的算法（不允许直接调用求方根的函数），并给出对应的 Python 程序。\n",
    "采用牛顿迭代法求解，迭代过程数学公式表示为：\n",
    "$ x_{n+1}=x_n-\\frac{f(x_n)}{f^{\\prime}(x_n)}$"
   ]
  },
  {
   "cell_type": "code",
   "execution_count": 36,
   "metadata": {},
   "outputs": [
    {
     "name": "stdout",
     "output_type": "stream",
     "text": [
      "25.0 的三次方根是: 2.924\n"
     ]
    }
   ],
   "source": [
    "def cubic_root(a, tolerance=1e-7, max_iterations=1000):\n",
    "    x_n=a/2.0 if a!=0 else 0.0\n",
    "    for _ in range(max_iterations):\n",
    "        f_xn = x_n**3-a\n",
    "        f_prime_xn = 3*x_n**2\n",
    "        x_n1 = x_n - f_xn/f_prime_xn\n",
    "        if abs (x_n1-x_n)<tolerance:\n",
    "            return x_n1\n",
    "        x_n = x_n1\n",
    "    return x_n\n",
    "\n",
    "a = float(input(\"请输入一个数，计算其三次方根: \"))\n",
    "result = cubic_root(a)\n",
    "print(f\"{a} 的三次方根是: {result:.3f}\")"
   ]
  },
  {
   "cell_type": "markdown",
   "metadata": {},
   "source": [
    "10. 写一个 Python 程序，给定一个常数 n（n>0），求 n 的阶乘，即 n!=1×2×...×(n-1)×n。例如，4!=24，5!=120。"
   ]
  },
  {
   "cell_type": "code",
   "execution_count": 21,
   "metadata": {},
   "outputs": [
    {
     "name": "stdout",
     "output_type": "stream",
     "text": [
      "120\n"
     ]
    }
   ],
   "source": [
    "n=int(input(\"请输入一个数：\"))\n",
    "result=1\n",
    "if n > 0:  \n",
    "    while n > 0: \n",
    "        result *= n\n",
    "        n -= 1\n",
    "else:\n",
    "    print(\"输入必须是一个正整数。\")\n",
    "print(result)\n",
    "\n",
    "\n"
   ]
  }
 ],
 "metadata": {
  "kernelspec": {
   "display_name": "Python 3 (ipykernel)",
   "language": "python",
   "name": "python3"
  },
  "language_info": {
   "codemirror_mode": {
    "name": "ipython",
    "version": 3
   },
   "file_extension": ".py",
   "mimetype": "text/x-python",
   "name": "python",
   "nbconvert_exporter": "python",
   "pygments_lexer": "ipython3",
   "version": "3.12.2"
  }
 },
 "nbformat": 4,
 "nbformat_minor": 4
}
